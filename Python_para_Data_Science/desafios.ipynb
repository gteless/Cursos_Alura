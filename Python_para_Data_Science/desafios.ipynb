{
  "cells": [
    {
      "cell_type": "markdown",
      "source": [
        "### 1. LISTAS, TUPLAS E DICIONÁRIOS"
      ],
      "metadata": {
        "id": "RSxXbUZhPyq-"
      },
      "id": "RSxXbUZhPyq-"
    },
    {
      "cell_type": "markdown",
      "id": "0877fb66",
      "metadata": {
        "id": "0877fb66"
      },
      "source": [
        "1. Crie um código para imprimir a soma dos elementos de cada uma das listas contidas na seguinte lista:"
      ]
    },
    {
      "cell_type": "code",
      "execution_count": null,
      "id": "b72d5bb9",
      "metadata": {
        "id": "b72d5bb9"
      },
      "outputs": [],
      "source": [
        "lista_de_listas = [[4,6,5,9], [1,0,7,2], [3,4,1,8]]"
      ]
    },
    {
      "cell_type": "code",
      "execution_count": null,
      "id": "774db813",
      "metadata": {
        "id": "774db813",
        "outputId": "ae6806a3-8cbd-4c32-b8f9-72211357bf3a",
        "colab": {
          "base_uri": "https://localhost:8080/"
        }
      },
      "outputs": [
        {
          "output_type": "stream",
          "name": "stdout",
          "text": [
            "A Soma do conjunto de valores - [4, 6, 5, 9] é: 24\n",
            "A Soma do conjunto de valores - [1, 0, 7, 2] é: 10\n",
            "A Soma do conjunto de valores - [3, 4, 1, 8] é: 16\n"
          ]
        }
      ],
      "source": [
        "for i in range(len(lista_de_listas)):\n",
        "  print(f'A Soma do conjunto de valores - {lista_de_listas[i]} é: {sum(lista_de_listas[i])}')"
      ]
    },
    {
      "cell_type": "markdown",
      "id": "a8e843da",
      "metadata": {
        "id": "a8e843da"
      },
      "source": [
        "2. Crie um código para gerar uma lista que armazena o terceiro elemento de cada tupla contida na seguinte lista de tuplas:"
      ]
    },
    {
      "cell_type": "code",
      "execution_count": null,
      "id": "049e10a6",
      "metadata": {
        "id": "049e10a6"
      },
      "outputs": [],
      "source": [
        "lista_de_tuplas = [('Pedro', 1.74, 81), ('Júlia', 1.65, 67), ('Otávio', 1.81, 83)]"
      ]
    },
    {
      "cell_type": "code",
      "source": [
        "# usando list comprehension, estou fazendo um for na lista de tuplas, e com o iterador, eu captura o terceiro valor da minha lista iterando ela por completo\n",
        "valores_armazenados = [lista_de_tuplas[i][2] for i in range(len(lista_de_tuplas))]\n",
        "valores_armazenados"
      ],
      "metadata": {
        "id": "jFMpYx4BNE67",
        "outputId": "6fa2baee-34f2-4bf2-cb88-f9302088fe0c",
        "colab": {
          "base_uri": "https://localhost:8080/"
        }
      },
      "id": "jFMpYx4BNE67",
      "execution_count": null,
      "outputs": [
        {
          "output_type": "execute_result",
          "data": {
            "text/plain": [
              "[81, 67, 83]"
            ]
          },
          "metadata": {},
          "execution_count": 16
        }
      ]
    },
    {
      "cell_type": "markdown",
      "id": "e00939ed",
      "metadata": {
        "id": "e00939ed"
      },
      "source": [
        "3. A partir da lista: lista = ['Pedro', 'Júlia', 'Otávio', 'Eduardo'], crie um código para gerar uma lista de tuplas em que cada tupla tenha o primeiro elemento como a posição do nome na lista original e o segundo elemento sendo o próprio nome."
      ]
    },
    {
      "cell_type": "code",
      "execution_count": null,
      "id": "c1eee800",
      "metadata": {
        "id": "c1eee800"
      },
      "outputs": [],
      "source": [
        "lista = ['Pedro', 'Júlia', 'Otávio', 'Eduardo']"
      ]
    },
    {
      "cell_type": "code",
      "source": [
        "lista_posicao = []\n",
        "\n",
        "for i in range(len(lista)):\n",
        "  lista_posicao.append((i, lista[i]))\n",
        "\n",
        "lista_posicao"
      ],
      "metadata": {
        "id": "NjHkL4w6ON8c",
        "outputId": "957c7af6-d705-45e1-8522-cf553d0a85d7",
        "colab": {
          "base_uri": "https://localhost:8080/"
        }
      },
      "id": "NjHkL4w6ON8c",
      "execution_count": null,
      "outputs": [
        {
          "output_type": "execute_result",
          "data": {
            "text/plain": [
              "[(0, 'Pedro'), (1, 'Júlia'), (2, 'Otávio'), (3, 'Eduardo')]"
            ]
          },
          "metadata": {},
          "execution_count": 18
        }
      ]
    },
    {
      "cell_type": "code",
      "source": [
        "# uma segunda alternativa, usar o enumerate que faz basicamente o for mas apenas em uma linha\n",
        "lista_posicao=[]\n",
        "lista_posicao = list(enumerate(lista))\n",
        "lista_posicao"
      ],
      "metadata": {
        "id": "ai5LCaQ3PBjW",
        "outputId": "45bfcbb1-fdcd-4d32-af2e-9d377e914d07",
        "colab": {
          "base_uri": "https://localhost:8080/"
        }
      },
      "id": "ai5LCaQ3PBjW",
      "execution_count": null,
      "outputs": [
        {
          "output_type": "execute_result",
          "data": {
            "text/plain": [
              "[(0, 'Pedro'), (1, 'Júlia'), (2, 'Otávio'), (3, 'Eduardo')]"
            ]
          },
          "metadata": {},
          "execution_count": 19
        }
      ]
    },
    {
      "cell_type": "markdown",
      "id": "7aa2ef3a",
      "metadata": {
        "id": "7aa2ef3a"
      },
      "source": [
        "4. Crie uma lista usando o list comprehension que armazena somente o valor numérico de cada tupla caso o primeiro elemento seja 'Apartamento', a partir da seguinte lista de tuplas:"
      ]
    },
    {
      "cell_type": "code",
      "execution_count": null,
      "id": "dd66d09e",
      "metadata": {
        "id": "dd66d09e"
      },
      "outputs": [],
      "source": [
        "aluguel = [('Apartamento', 1700), ('Apartamento', 1400), ('Casa', 2150), ('Apartamento', 1900), ('Casa', 1100)]"
      ]
    },
    {
      "cell_type": "code",
      "source": [
        "lista_apartamentos = [aluguel[i][1] for i in range(len(aluguel)) if aluguel[i][0] == \"Apartamento\"]\n",
        "lista_apartamentos"
      ],
      "metadata": {
        "id": "sFTD9SmUPVmC",
        "outputId": "ffdcff33-489d-4a88-8382-89bfad360f7f",
        "colab": {
          "base_uri": "https://localhost:8080/"
        }
      },
      "id": "sFTD9SmUPVmC",
      "execution_count": null,
      "outputs": [
        {
          "output_type": "execute_result",
          "data": {
            "text/plain": [
              "[1700, 1400, 1900]"
            ]
          },
          "metadata": {},
          "execution_count": 21
        }
      ]
    },
    {
      "cell_type": "code",
      "source": [
        "# uma segunda alternativa:\n",
        "lista_apartamentos = [valor for tipo, valor in aluguel if tipo == \"Apartamento\"]\n",
        "lista_apartamentos"
      ],
      "metadata": {
        "id": "y1wKka97QBw7",
        "outputId": "8f062494-b5f4-4d0a-8b03-6d67108904fe",
        "colab": {
          "base_uri": "https://localhost:8080/"
        }
      },
      "id": "y1wKka97QBw7",
      "execution_count": null,
      "outputs": [
        {
          "output_type": "execute_result",
          "data": {
            "text/plain": [
              "[1700, 1400, 1900]"
            ]
          },
          "metadata": {},
          "execution_count": 24
        }
      ]
    },
    {
      "cell_type": "markdown",
      "id": "86f111b3",
      "metadata": {
        "id": "86f111b3"
      },
      "source": [
        "5. Crie um dicionário usando o dict comprehension em que as chaves estão na lista meses = ['Jan', 'Fev', 'Mar', 'Abr', 'Mai', 'Jun', 'Jul', 'Ago', 'Set', 'Out', 'Nov', 'Dez'] e os valores estão em despesa = [860, 490, 1010, 780, 900, 630, 590, 770, 620, 560, 840, 360]."
      ]
    },
    {
      "cell_type": "code",
      "execution_count": null,
      "id": "0574ebbf",
      "metadata": {
        "id": "0574ebbf"
      },
      "outputs": [],
      "source": [
        "meses = ['Jan', 'Fev', 'Mar', 'Abr', 'Mai', 'Jun', 'Jul', 'Ago', 'Set', 'Out', 'Nov', 'Dez']\n",
        "despesa = [860, 490, 1010, 780, 900, 630, 590, 770, 620, 560, 840, 360]"
      ]
    },
    {
      "cell_type": "code",
      "source": [
        "dicionario_despesas = {meses[i]: despesa[i] for i in range(len(meses))}\n",
        "dicionario_despesas"
      ],
      "metadata": {
        "id": "q0-ac39qQ19h",
        "outputId": "85d11626-170c-4e37-a711-177f7a34af06",
        "colab": {
          "base_uri": "https://localhost:8080/"
        }
      },
      "id": "q0-ac39qQ19h",
      "execution_count": null,
      "outputs": [
        {
          "output_type": "execute_result",
          "data": {
            "text/plain": [
              "{'Jan': 860,\n",
              " 'Fev': 490,\n",
              " 'Mar': 1010,\n",
              " 'Abr': 780,\n",
              " 'Mai': 900,\n",
              " 'Jun': 630,\n",
              " 'Jul': 590,\n",
              " 'Ago': 770,\n",
              " 'Set': 620,\n",
              " 'Out': 560,\n",
              " 'Nov': 840,\n",
              " 'Dez': 360}"
            ]
          },
          "metadata": {},
          "execution_count": 37
        }
      ]
    },
    {
      "cell_type": "code",
      "source": [
        "# usando zip, não cria um dicionário, mas sim, um lista de tuplas\n",
        "despesas_mensais = {mes: val for mes, val in zip(meses, despesa)}\n",
        "despesas_mensais"
      ],
      "metadata": {
        "id": "kLmLnoRaQbHa",
        "outputId": "1c43e808-2ac0-4d09-eafc-037c5534ba84",
        "colab": {
          "base_uri": "https://localhost:8080/"
        }
      },
      "id": "kLmLnoRaQbHa",
      "execution_count": null,
      "outputs": [
        {
          "output_type": "execute_result",
          "data": {
            "text/plain": [
              "{'Jan': 860,\n",
              " 'Fev': 490,\n",
              " 'Mar': 1010,\n",
              " 'Abr': 780,\n",
              " 'Mai': 900,\n",
              " 'Jun': 630,\n",
              " 'Jul': 590,\n",
              " 'Ago': 770,\n",
              " 'Set': 620,\n",
              " 'Out': 560,\n",
              " 'Nov': 840,\n",
              " 'Dez': 360}"
            ]
          },
          "metadata": {},
          "execution_count": 38
        }
      ]
    },
    {
      "cell_type": "markdown",
      "id": "bba3fe47",
      "metadata": {
        "id": "bba3fe47"
      },
      "source": [
        "Aplicando a projetos\n",
        "\n",
        "6. Uma loja possui um banco de dados com a informação de venda de cada representante e de cada ano e precisa filtrar somente os dados do ano 2022 com venda maior do que 6000. A loja forneceu uma amostra contendo apenas as colunas com os anos e os valores de venda para que você ajude a realizar a filtragem dos dados a partir de um código:"
      ]
    },
    {
      "cell_type": "code",
      "execution_count": null,
      "id": "934f4874",
      "metadata": {
        "id": "934f4874"
      },
      "outputs": [],
      "source": [
        "vendas = [('2023', 4093), ('2021', 4320), ('2021', 5959), ('2022', 8883), ('2023', 9859), ('2022', 5141), ('2022', 7688), \\\n",
        " ('2022', 9544), ('2023', 4794), ('2021', 7178), ('2022', 3030), ('2021', 7471), ('2022', 4226), ('2022', 8190), ('2021', 9680), ('2022', 5616)]"
      ]
    },
    {
      "cell_type": "markdown",
      "source": [
        "Crie uma lista usando list comprehension para filtrar os valores de 2022 e que sejam maiores que 6000."
      ],
      "metadata": {
        "id": "HSTjjrk0VTvE"
      },
      "id": "HSTjjrk0VTvE"
    },
    {
      "cell_type": "code",
      "source": [
        "'''aqui estou lendo a lista de tuplas \"vendas\", capturando o ano que é o primeiro valor da tupla\n",
        "e o valor que é o segundo, com isso, eu faço um for na lista e atribuo o valor na minha nova variavel\n",
        "caso o ano seja 2002 e caso o valor seja maior que 6000'''\n",
        "\n",
        "filtro_valores = [(ano, valor) for ano, valor in vendas if ano == \"2022\" and valor > 6000]\n",
        "filtro_valores"
      ],
      "metadata": {
        "id": "jOK4nr63VP5c",
        "outputId": "7d6e36d5-7390-4149-af3b-ebe9ee210e89",
        "colab": {
          "base_uri": "https://localhost:8080/"
        }
      },
      "id": "jOK4nr63VP5c",
      "execution_count": null,
      "outputs": [
        {
          "output_type": "execute_result",
          "data": {
            "text/plain": [
              "[('2022', 8883), ('2022', 7688), ('2022', 9544), ('2022', 8190)]"
            ]
          },
          "metadata": {},
          "execution_count": 43
        }
      ]
    },
    {
      "cell_type": "markdown",
      "id": "4d90f43a",
      "metadata": {
        "id": "4d90f43a"
      },
      "source": [
        "7. Uma clínica analisa dados de pacientes e armazena o valor numérico da glicose em um banco de dados e gostaria de rotular os dados da seguinte maneira:\n",
        "\n",
        "Glicose igual ou inferior a 70: 'Hipoglicemia'\n",
        "\n",
        "Glicose entre 70 a 99: 'Normal'\n",
        "\n",
        "Glicose entre 100 e 125: 'Alterada'\n",
        "\n",
        "Glicose superior a 125: 'Diabetes'\n",
        "\n",
        "A clínica disponibilizou parte dos valores e sua tarefa é criar uma lista de tuplas usando list comprehension contendo o rótulo e o valor da glicemia em cada tupla."
      ]
    },
    {
      "cell_type": "code",
      "execution_count": null,
      "id": "59f2e317",
      "metadata": {
        "id": "59f2e317"
      },
      "outputs": [],
      "source": [
        "glicemia = [129, 82, 60, 97, 101, 65, 62, 167, 87, 53, 58, 92, 66, 120, 109, 62, 86, 96, 103, 88, 155, 52, 89, 73]"
      ]
    },
    {
      "cell_type": "code",
      "source": [
        "# cria uma função para atribuir os rotulos\n",
        "def rotular_glicose(valor):\n",
        "  if valor <= 70:\n",
        "    return 'Hipoglicemia'\n",
        "  elif valor < 99:\n",
        "    return 'Normal'\n",
        "  elif valor < 125:\n",
        "    return 'Alterada'\n",
        "  else:\n",
        "    return 'Diabetes'\n",
        "\n",
        "# faz o list comprehension com a função criada\n",
        "rotulos = [(rotular_glicose(valor), valor) for valor in glicemia]\n",
        "rotulos"
      ],
      "metadata": {
        "id": "vc6br3CYVauX",
        "outputId": "3ea51dc4-7f67-4d7b-9b81-6b4093d1d487",
        "colab": {
          "base_uri": "https://localhost:8080/"
        }
      },
      "id": "vc6br3CYVauX",
      "execution_count": null,
      "outputs": [
        {
          "output_type": "execute_result",
          "data": {
            "text/plain": [
              "[('Diabetes', 129),\n",
              " ('Normal', 82),\n",
              " ('Hipoglicemia', 60),\n",
              " ('Normal', 97),\n",
              " ('Alterada', 101),\n",
              " ('Hipoglicemia', 65),\n",
              " ('Hipoglicemia', 62),\n",
              " ('Diabetes', 167),\n",
              " ('Normal', 87),\n",
              " ('Hipoglicemia', 53),\n",
              " ('Hipoglicemia', 58),\n",
              " ('Normal', 92),\n",
              " ('Hipoglicemia', 66),\n",
              " ('Alterada', 120),\n",
              " ('Alterada', 109),\n",
              " ('Hipoglicemia', 62),\n",
              " ('Normal', 86),\n",
              " ('Normal', 96),\n",
              " ('Alterada', 103),\n",
              " ('Normal', 88),\n",
              " ('Diabetes', 155),\n",
              " ('Hipoglicemia', 52),\n",
              " ('Normal', 89),\n",
              " ('Normal', 73)]"
            ]
          },
          "metadata": {},
          "execution_count": 48
        }
      ]
    },
    {
      "cell_type": "markdown",
      "id": "88b32e91",
      "metadata": {
        "id": "88b32e91"
      },
      "source": [
        "8. Um e-commerce possui as informações de id de venda, quantidade vendida e preço do produto divididos nas seguintes listas:\n",
        "\n",
        "\n"
      ]
    },
    {
      "cell_type": "code",
      "execution_count": null,
      "id": "b95d0b15",
      "metadata": {
        "id": "b95d0b15"
      },
      "outputs": [],
      "source": [
        "id = [0, 1, 2, 3, 4, 5, 6, 7, 8, 9]\n",
        "quantidade = [15, 12, 1, 15, 2, 11, 2, 12, 2, 4]\n",
        "preco = [93.0, 102.0, 18.0, 41.0, 122.0, 14.0, 71.0, 48.0, 14.0, 144.0]"
      ]
    },
    {
      "cell_type": "markdown",
      "source": [
        "O e-commerce precisa estruturar esses dados em uma tabela contendo o valor total da venda, que é obtida multiplicando a quantidade pelo preço unitário. Além disso, a tabela precisa conter um cabeçalho indicando as colunas: 'id', 'quantidade', 'preco' e 'total'.\n",
        "\n",
        "Crie uma lista de tuplas em que cada tupla tenha id, quantidade, preço e valor total, na qual a primeira tupla é o cabeçalho da tabela."
      ],
      "metadata": {
        "id": "MhCttquVY1IA"
      },
      "id": "MhCttquVY1IA"
    },
    {
      "cell_type": "code",
      "source": [
        "tabela = [('id', 'quantidade', 'preco', 'total')] + [\n",
        "    (id[i], quantidade[i], preco[i], quantidade[i] * preco[i]) for i in range(len(id))\n",
        "]\n",
        "tabela"
      ],
      "metadata": {
        "id": "-XcPdh6eY2S7",
        "outputId": "c22a3fa3-ab1f-44ca-da17-8af8f0bcf0d1",
        "colab": {
          "base_uri": "https://localhost:8080/"
        }
      },
      "id": "-XcPdh6eY2S7",
      "execution_count": null,
      "outputs": [
        {
          "output_type": "execute_result",
          "data": {
            "text/plain": [
              "[('id', 'quantidade', 'preco', 'total'),\n",
              " (0, 15, 93.0, 1395.0),\n",
              " (1, 12, 102.0, 1224.0),\n",
              " (2, 1, 18.0, 18.0),\n",
              " (3, 15, 41.0, 615.0),\n",
              " (4, 2, 122.0, 244.0),\n",
              " (5, 11, 14.0, 154.0),\n",
              " (6, 2, 71.0, 142.0),\n",
              " (7, 12, 48.0, 576.0),\n",
              " (8, 2, 14.0, 28.0),\n",
              " (9, 4, 144.0, 576.0)]"
            ]
          },
          "metadata": {},
          "execution_count": 56
        }
      ]
    },
    {
      "cell_type": "markdown",
      "id": "18a38fff",
      "metadata": {
        "id": "18a38fff"
      },
      "source": [
        "9. Uma empresa possui filiais espalhadas nos Estados da região Sudeste do Brasil. Em uma das tabelas de cadastro das filiais há uma coluna contendo a informação de qual é o Estado a que pertence: estados = ['SP', 'ES', 'MG', 'MG', 'SP', 'MG', 'ES', 'ES', 'ES', 'SP', 'SP', 'MG', 'ES', 'SP', 'RJ', 'MG', 'RJ', 'SP', 'MG', 'SP', 'ES', 'SP', 'MG'].\n",
        "\n",
        "A empresa sempre está abrindo novas filiais, de modo que a tabela está constantemente recebendo novos registros e o gestor gostaria de possuir a informação atualizada da quantidade de filiais em cada Estado.\n",
        "\n",
        "A partir da coluna com a informação dos Estados, crie um dicionário usando dict comprehension com a chave sendo o nome de um Estado e o valor sendo a contagem de vezes em que o Estado aparece na lista.\n",
        "\n",
        "Dica: Você pode fazer um passo intermediário para gerar uma lista de listas em que cada uma das listas possui o nome de apenas um Estado com valores repetidos."
      ]
    },
    {
      "cell_type": "code",
      "source": [
        "estados = ['SP', 'ES', 'MG', 'MG', 'SP', 'MG', 'ES', 'ES', 'ES', 'SP', 'SP', 'MG', 'ES', 'SP', 'RJ', 'MG', 'RJ', 'SP', 'MG', 'SP', 'ES', 'SP', 'MG']"
      ],
      "metadata": {
        "id": "_KgPq0_WZf3Y"
      },
      "id": "_KgPq0_WZf3Y",
      "execution_count": null,
      "outputs": []
    },
    {
      "cell_type": "code",
      "source": [
        "# o set nesse caso serve para não trazer elementos repetidos para iterarem\n",
        "qtd_estados = {estado: estados.count(estado) for estado in set(estados)}\n",
        "qtd_estados"
      ],
      "metadata": {
        "id": "BnirGFMwZgkg",
        "outputId": "481328da-dc5a-4be6-87f2-c6eb3265e4dd",
        "colab": {
          "base_uri": "https://localhost:8080/"
        }
      },
      "id": "BnirGFMwZgkg",
      "execution_count": null,
      "outputs": [
        {
          "output_type": "execute_result",
          "data": {
            "text/plain": [
              "{'RJ': 2, 'ES': 6, 'SP': 8, 'MG': 7}"
            ]
          },
          "metadata": {},
          "execution_count": 15
        }
      ]
    },
    {
      "cell_type": "markdown",
      "id": "c592c8a1",
      "metadata": {
        "id": "c592c8a1"
      },
      "source": [
        "10. Nessa mesma tabela de cadastro de filiais, há uma coluna com as informações da quantidade de pessoas colaboradoras e o(a) gestor(a) gostaria de ter um agrupamento da soma dessas pessoas para cada estado. As informações contidas na tabela são:"
      ]
    },
    {
      "cell_type": "code",
      "execution_count": null,
      "id": "b624cf9b",
      "metadata": {
        "id": "b624cf9b"
      },
      "outputs": [],
      "source": [
        "funcionarios = [('SP', 16), ('ES', 8), ('MG', 9), ('MG', 6), ('SP', 10), ('MG', 4), ('ES',9), ('ES', 7), ('ES', 12), ('SP', 7), ('SP', 11), ('MG',8), ('ES',8), ('SP',9), ('RJ', 13), ('MG', 5), ('RJ', 9), ('SP', 12), ('MG', 10), ('SP', 7), ('ES', 14), ('SP', 10), ('MG', 12)]"
      ]
    },
    {
      "cell_type": "markdown",
      "id": "c63927d7",
      "metadata": {
        "id": "c63927d7"
      },
      "source": [
        "A partir da lista de tuplas, crie um dicionário em que as chaves são os nomes dos Estados únicos e os valores são as listas com o número de colaboradores(as) referentes ao Estado. Crie também um dicionário em que as chaves são os nomes dos Estados e os valores são a soma de colaboradores(as) por Estado.\n",
        "\n",
        "Dica: Você pode fazer um passo intermediário para gerar uma lista de listas em que cada uma das listas possui apenas os valores numéricos de funcionários(as) de cada Estado."
      ]
    },
    {
      "cell_type": "code",
      "source": [
        "# o set nesse caso serve para não trazer elementos repetidos para iterarem\n",
        "qtd_trabalhadores = {estado: sum(qtd for est, qtd in funcionarios if est == estado) for estado in set(est for est, _ in funcionarios)}\n",
        "qtd_trabalhadores"
      ],
      "metadata": {
        "id": "sM8l_CiXY5-x",
        "outputId": "56984f90-9715-4e03-f123-b8a92945bacf",
        "colab": {
          "base_uri": "https://localhost:8080/"
        }
      },
      "id": "sM8l_CiXY5-x",
      "execution_count": null,
      "outputs": [
        {
          "output_type": "execute_result",
          "data": {
            "text/plain": [
              "{'RJ': 22, 'ES': 58, 'SP': 82, 'MG': 54}"
            ]
          },
          "metadata": {},
          "execution_count": 23
        }
      ]
    },
    {
      "cell_type": "markdown",
      "source": [
        "### 2. EXCEÇÕES"
      ],
      "metadata": {
        "id": "S3ZXuYLmP5QC"
      },
      "id": "S3ZXuYLmP5QC"
    },
    {
      "cell_type": "markdown",
      "source": [
        "Faça um programa que solicite à pessoa usuária digitar dois números float e calcular a divisão entre esses números. O código deve conter um tratamento de erro, indicando o tipo de erro que foi gerado caso a divisão não seja possível de realizar.\n",
        "\n",
        "Teste o programa com o segundo valor numérico do input igual a 0. Também teste utilizando caracteres textuais no input para checar os tipos de erro que ocorrem."
      ],
      "metadata": {
        "id": "sSsgdFzjP97U"
      },
      "id": "sSsgdFzjP97U"
    },
    {
      "cell_type": "markdown",
      "source": [
        "Faça um programa que solicite à pessoa usuária digitar um texto que será uma chave a ser pesquisada no seguinte dicionário: idades = {'Júlia': 16, 'Carol': 23, 'Alberto': 19, 'Roberta': 17}, armazenando o resultado do valor em uma variável. O código deve conter um tratamento de erro KeyError, imprimindo a informação 'Nome não encontrado', caso ocorra o erro; e imprimir o valor caso não ocorra nenhum.\n",
        "\n",
        "Teste o programa com um nome presente em uma das chaves do dicionário e com um que não esteja no dicionário para verificar a mensagem de erro."
      ],
      "metadata": {
        "id": "RQkX8oL2QAYO"
      },
      "id": "RQkX8oL2QAYO"
    },
    {
      "cell_type": "markdown",
      "source": [
        "Crie uma função que recebe uma lista como parâmetro e converta todos os valores da lista para float. A função deve conter um tratamento de erro indicando o tipo de erro gerado e retornar a lista caso não tenha ocorrido nenhum erro. Por fim, deve ter a cláusula finally para imprimir o texto: 'Fim da execução da função'."
      ],
      "metadata": {
        "id": "8tqnoC3QQCLi"
      },
      "id": "8tqnoC3QQCLi"
    },
    {
      "cell_type": "markdown",
      "source": [
        "Crie uma função que recebe duas listas como parâmetros e agrupe os elementos um a um das listas, formando uma lista de tuplas de 3 elementos, no qual o primeiro e segundo elemento da tupla são os valores na posição i das listas e o terceiro elemento é a soma dos valores na posição i das listas.\n",
        "\n",
        "A função deve conter um tratamento de erro indicando o tipo de erro gerado e retornar como resultado a lista de tuplas. Caso as listas enviadas como parâmetro tenham tamanhos diferentes, a função deve retornar um IndexError com a frase: 'A quantidade de elementos em cada lista é diferente.' Dados para testar a função:\n",
        "\n",
        "\n",
        "\n",
        "1.   Valores sem erro:\n",
        "\n",
        "lista1 = [4,6,7,9,10]\n",
        "lista2 = [-4,6,8,7,9]\n",
        "\n",
        "2.   Listas com tamanhos diferentes:\n",
        "\n",
        "lista1 = [4,6,7,9,10,4]\n",
        "lista2 = [-4,6,8,7,9]\n",
        "\n",
        "3.   Listas com valores incoerentes:\n",
        "\n",
        "lista1 = [4,6,7,9,'A']\n",
        "lista2 = [-4,'E',8,7,9]\n",
        "\n",
        "\n"
      ],
      "metadata": {
        "id": "8XBxYzgOQENC"
      },
      "id": "8XBxYzgOQENC"
    },
    {
      "cell_type": "markdown",
      "source": [
        "Como desafio, você recebeu a tarefa de desenvolver um código que contabiliza as pontuações de estudantes de uma instituição de ensino de acordo com suas respostas num teste. Este código deve ser testado para um exemplo de 3 estudantes com uma lista de listas em que cada lista possui as respostas de 5 questões objetivas de cada estudante. Cada questão vale um ponto e as alternativas possíveis são A, B, C ou D.\n",
        "\n",
        "Caso alguma alternativa em um dos testes não esteja entre as alternativas possíveis, você deve lançar um ValueError com a mensagem \"A alternativa [alternativa] não é uma opção de alternativa válida\". O cálculo das 3 notas só será realizado mediante as entradas com as alternativas A, B, C ou D em todos os testes. Se não for lançada a exceção, será exibida uma lista com as notas em cada teste.\n",
        "\n",
        "Os dados para o teste do código são:\n",
        "\n",
        "\n",
        "*   Gabarito da prova:\n",
        "\n",
        "gabarito = ['D', 'A', 'B', 'C', 'A']\n",
        "\n",
        "Abaixo temos 2 listas de listas que você pode usar como teste\n",
        "\n",
        "\n",
        "\n",
        "*   Notas sem exceção:\n",
        "\n",
        "testes_sem_ex = [['D', 'A', 'B', 'C', 'A'], ['C', 'A', 'A', 'C', 'A'], ['D', 'B', 'A', 'C', 'A']]\n",
        "\n",
        "*   Notas com exceção:\n",
        "\n",
        "testes_com_ex = [['D', 'A', 'B', 'C', 'A'], ['C', 'A', 'A', 'E', 'A'], ['D', 'B', 'A', 'C', 'A']]\n",
        "\n",
        "\n",
        "Dica: Para verificar se uma entrada da lista não está entre as alternativas possíveis, use a estrutura lista[i] not in ['A','B','C','D']. Por exemplo, 1 not in [2,3,4]... Saída: True.\n",
        "\n",
        "\n"
      ],
      "metadata": {
        "id": "zjf6lnC9QXaT"
      },
      "id": "zjf6lnC9QXaT"
    },
    {
      "cell_type": "markdown",
      "source": [
        "Você está trabalhando com processamento de linguagem natural (NLP) e, dessa vez, sua líder requisitou que você criasse um trecho de código que recebe uma lista com as palavras separadas de uma frase gerada pelo ChatGPT.\n",
        "\n",
        "Você precisa criar uma função que avalia cada palavra desse texto e verificar se o tratamento para retirar os símbolos de pontuação (',' '.', '!' e '?') foi realizado. Caso contrário, será lançada uma exceção do tipo ValueError apontando o 1º caso em que foi detectado o uso de uma pontuação por meio da frase \"O texto apresenta pontuações na palavra \"[palavra]\".\". Essa demanda é voltada para a análise do padrão de frases geradas pela inteligência artificial.\n",
        "\n",
        "Dica: Para verificar se uma ou mais das pontuações estão presentes em cada palavra, utilize a palavra chave or na condição if. Por exemplo, 'a' in 'alura' or 'b' in 'alura'… Saída: `True`\n",
        "\n",
        "Os dados para o teste do código são:\n",
        "\n",
        "\n",
        "\n",
        "\n",
        "*   Lista tratada:\n",
        "\n",
        "lista_tratada = ['Python', 'é', 'uma', 'linguagem', 'de', 'programação', 'poderosa', 'versátil',\n",
        "                  'e', 'fácil', 'de', 'aprender', 'utilizada', 'em', 'diversos', 'campos', 'desde',\n",
        "                  'análise', 'de', 'dados', 'até', 'inteligência', 'artificial']\n",
        "\n",
        "\n",
        "*   Lista não tratada:\n",
        "\n",
        "lista_nao_tratada = ['Python', 'é', 'uma', 'linguagem', 'de', 'programação', 'poderosa,', 'versátil',\n",
        "                  'e', 'fácil,', 'de', 'aprender', 'utilizada', 'em', 'diversos', 'campos,', 'desde',\n",
        "                  'análise', 'de', 'dados', 'até', 'inteligência', 'artificial!']\n",
        "\n",
        "\n"
      ],
      "metadata": {
        "id": "iCyaT4RVQnrR"
      },
      "id": "iCyaT4RVQnrR"
    },
    {
      "cell_type": "markdown",
      "source": [
        "Você foi contratado(a) como uma pessoa cientista de dados para auxiliar um laboratório que faz experimentos sobre o comportamento de uma cultura de fungos. O laboratório precisa avaliar constantemente a razão (divisão) entre os dados de pressão e temperatura do ambiente controlado recolhidos durante a experimentação para definir a melhor condição para os testes.\n",
        "\n",
        "Para cumprir com a demanda, você precisa criar uma função divide_colunas que recebe os dados das colunas de pressão e temperatura (que vem no formato de listas) e gerar uma nova coluna com o resultado da divisão. Os parâmetros da função são as duas listas e você deve tratar dentro dela ao menos 2 tipos de exceções:\n",
        "\n",
        "Verificar se as listas têm o mesmo tamanho (ValueError)\n",
        "Verificar se existe alguma divisão por zero (ZeroDivisionError)\n",
        "Para testar a função, vamos realizar a divisão entre duas listas de dados coletados no experimento, com os valores de pressão e temperatura do ambiente controlado.\n",
        "\n",
        "Como teste, use os seguintes dados:\n",
        "\n",
        "* Dados sem exceção:\n",
        "\n",
        "pressoes = [100, 120, 140, 160, 180]\n",
        "temperaturas = [20, 25, 30, 35, 40]\n",
        "\n",
        "* Dados com exceção:\n",
        "\n",
        "1) Exceção de ZeroDivisionError\n",
        "\n",
        "pressoes = [60, 120, 140, 160, 180]\n",
        "temperaturas = [0, 25, 30, 35, 40]\n",
        "\n",
        "2) Exceção de ValueError\n",
        "\n",
        "pressoes = [100, 120, 140, 160]\n",
        "temperaturas = [20, 25, 30, 35, 40]\n",
        "\n",
        "Dica: Você pode usar zip() para parear os dados da lista_1 com a lista_2. Crie uma estrutura try-except que caso uma das exceções sejam lançadas, podemos ver o tipo de erro na saída.\n",
        "\n",
        "\n"
      ],
      "metadata": {
        "id": "k0Z5mBT7Q-As"
      },
      "id": "k0Z5mBT7Q-As"
    },
    {
      "cell_type": "code",
      "source": [],
      "metadata": {
        "id": "sjQFrvIWROGU"
      },
      "id": "sjQFrvIWROGU",
      "execution_count": null,
      "outputs": []
    }
  ],
  "metadata": {
    "kernelspec": {
      "display_name": "Python 3",
      "language": "python",
      "name": "python3"
    },
    "language_info": {
      "codemirror_mode": {
        "name": "ipython",
        "version": 3
      },
      "file_extension": ".py",
      "mimetype": "text/x-python",
      "name": "python",
      "nbconvert_exporter": "python",
      "pygments_lexer": "ipython3",
      "version": "3.10.11"
    },
    "colab": {
      "provenance": []
    }
  },
  "nbformat": 4,
  "nbformat_minor": 5
}